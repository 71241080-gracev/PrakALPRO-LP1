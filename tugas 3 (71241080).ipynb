{
 "cells": [
  {
   "cell_type": "code",
   "execution_count": 3,
   "id": "00c74618-3b19-437f-975f-dd5d4e03ea9a",
   "metadata": {},
   "outputs": [
    {
     "name": "stdout",
     "output_type": "stream",
     "text": [
      "waktu yang dibutuhkan: 7.27 tahun\n"
     ]
    }
   ],
   "source": [
    "import math\n",
    "p=200000000\n",
    "a=400000000\n",
    "r=0.1\n",
    "n=1\n",
    "t=math.log(a/p)/(n*math.log(1+r/n))\n",
    "print(f\"waktu yang dibutuhkan: {t:.2f} tahun\")"
   ]
  },
  {
   "cell_type": "code",
   "execution_count": null,
   "id": "d2cbd318-b75b-4d47-aff3-fbcccbaa5b38",
   "metadata": {},
   "outputs": [],
   "source": []
  }
 ],
 "metadata": {
  "kernelspec": {
   "display_name": "Python 3 (ipykernel)",
   "language": "python",
   "name": "python3"
  },
  "language_info": {
   "codemirror_mode": {
    "name": "ipython",
    "version": 3
   },
   "file_extension": ".py",
   "mimetype": "text/x-python",
   "name": "python",
   "nbconvert_exporter": "python",
   "pygments_lexer": "ipython3",
   "version": "3.12.7"
  }
 },
 "nbformat": 4,
 "nbformat_minor": 5
}
