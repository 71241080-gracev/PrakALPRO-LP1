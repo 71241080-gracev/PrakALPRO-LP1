{
 "cells": [
  {
   "cell_type": "code",
   "execution_count": 1,
   "id": "d8e595bf-68e8-4e97-86d0-61aea6ebaae8",
   "metadata": {},
   "outputs": [
    {
     "name": "stdout",
     "output_type": "stream",
     "text": [
      "keuntungan pertama : Rp 875000 (5.38%)\n",
      "keuntungan akhir : Rp 2075000 (7.82%)\n"
     ]
    }
   ],
   "source": [
    "gram_emas_awal=25\n",
    "harga_awal=650000\n",
    "harga_naik_pertama=685000\n",
    "modal_awal=gram_emas_awal*harga_awal\n",
    "keuntungan_sekarang=((gram_emas_awal*harga_naik_pertama)-(modal_awal))\n",
    "keuntungan_sekarang_persen=(keuntungan_sekarang/modal_awal)*100\n",
    "print (f\"keuntungan pertama : Rp {keuntungan_sekarang} ({keuntungan_sekarang_persen:.2f}%)\")\n",
    "gram_emas_baru=15\n",
    "harga_naik_kedua=715000\n",
    "total_emas=gram_emas_awal+gram_emas_baru\n",
    "modal_akhir=modal_awal+gram_emas_baru*harga_naik_pertama\n",
    "keuntungan_akhir=((total_emas*harga_naik_kedua)-modal_akhir)\n",
    "keuntungan_akhir_persen=(keuntungan_akhir/modal_akhir)*100\n",
    "print (f\"keuntungan akhir : Rp {keuntungan_akhir} ({keuntungan_akhir_persen:.2f}%)\")"
   ]
  }
 ],
 "metadata": {
  "kernelspec": {
   "display_name": "Python 3 (ipykernel)",
   "language": "python",
   "name": "python3"
  },
  "language_info": {
   "codemirror_mode": {
    "name": "ipython",
    "version": 3
   },
   "file_extension": ".py",
   "mimetype": "text/x-python",
   "name": "python",
   "nbconvert_exporter": "python",
   "pygments_lexer": "ipython3",
   "version": "3.12.7"
  }
 },
 "nbformat": 4,
 "nbformat_minor": 5
}
