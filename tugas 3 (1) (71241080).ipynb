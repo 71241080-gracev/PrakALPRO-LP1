{
 "cells": [
  {
   "cell_type": "code",
   "execution_count": 17,
   "id": "00c74618-3b19-437f-975f-dd5d4e03ea9a",
   "metadata": {},
   "outputs": [
    {
     "name": "stdout",
     "output_type": "stream",
     "text": [
      "saldo akhir:220000000.00000003\n"
     ]
    }
   ],
   "source": [
    "p=200000000\n",
    "r=0.1\n",
    "n=1\n",
    "t=1\n",
    "a=p*(1+r/n)**(n*t)\n",
    "print(\"saldo akhir:\" +str(a))"
   ]
  },
  {
   "cell_type": "code",
   "execution_count": 18,
   "id": "252c58ef-c122-4420-b876-464e7fcec597",
   "metadata": {},
   "outputs": [
    {
     "name": "stdout",
     "output_type": "stream",
     "text": [
      "saldo akhir:242000000.00000003\n"
     ]
    }
   ],
   "source": [
    "p=200000000\n",
    "r=0.1\n",
    "n=1\n",
    "t=2\n",
    "a=p*(1+r/n)**(n*t)\n",
    "print(\"saldo akhir:\" +str(a))"
   ]
  },
  {
   "cell_type": "code",
   "execution_count": 19,
   "id": "5cb08d2d-01d5-4048-85b1-47fa8008aae2",
   "metadata": {},
   "outputs": [
    {
     "name": "stdout",
     "output_type": "stream",
     "text": [
      "saldo akhir:292820000.00000006\n"
     ]
    }
   ],
   "source": [
    "p=200000000\n",
    "r=0.1\n",
    "n=1\n",
    "t=4\n",
    "a=p*(1+r/n)**(n*t)\n",
    "print(\"saldo akhir:\" +str(a))"
   ]
  },
  {
   "cell_type": "code",
   "execution_count": 20,
   "id": "530237e7-5ee5-4b35-bb57-589c02176b9e",
   "metadata": {},
   "outputs": [
    {
     "name": "stdout",
     "output_type": "stream",
     "text": [
      "saldo akhir:354312200.0000002\n"
     ]
    }
   ],
   "source": [
    "p=200000000\n",
    "r=0.1\n",
    "n=1\n",
    "t=6\n",
    "a=p*(1+r/n)**(n*t)\n",
    "print(\"saldo akhir:\" +str(a))"
   ]
  },
  {
   "cell_type": "code",
   "execution_count": 21,
   "id": "368e8d52-481c-424c-9b83-7f0cce691eeb",
   "metadata": {},
   "outputs": [
    {
     "name": "stdout",
     "output_type": "stream",
     "text": [
      "saldo akhir:428717762.0000003\n"
     ]
    }
   ],
   "source": [
    "p=200000000\n",
    "r=0.1\n",
    "n=1\n",
    "t=8\n",
    "a=p*(1+r/n)**(n*t)\n",
    "print(\"saldo akhir:\" +str(a))"
   ]
  }
 ],
 "metadata": {
  "kernelspec": {
   "display_name": "Python 3 (ipykernel)",
   "language": "python",
   "name": "python3"
  },
  "language_info": {
   "codemirror_mode": {
    "name": "ipython",
    "version": 3
   },
   "file_extension": ".py",
   "mimetype": "text/x-python",
   "name": "python",
   "nbconvert_exporter": "python",
   "pygments_lexer": "ipython3",
   "version": "3.12.7"
  }
 },
 "nbformat": 4,
 "nbformat_minor": 5
}
